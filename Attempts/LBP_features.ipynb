{
 "cells": [
  {
   "cell_type": "code",
   "execution_count": 19,
   "metadata": {},
   "outputs": [],
   "source": [
    "import matplotlib.pyplot as plt\n",
    "from PIL import Image\n",
    "import cv2\n",
    "import imutils\n",
    "import matplotlib.pyplot as plt\n",
    "import numpy as np\n",
    "import functools\n",
    "from skimage.feature import local_binary_pattern\n"
   ]
  },
  {
   "cell_type": "code",
   "execution_count": 20,
   "metadata": {},
   "outputs": [],
   "source": [
    "radius = 2\n",
    "n_points = 8 * radius"
   ]
  },
  {
   "cell_type": "code",
   "execution_count": 21,
   "metadata": {},
   "outputs": [],
   "source": [
    "def Preprocessing (image) : \n",
    "    image = cv2.cvtColor(image,cv2.COLOR_RGB2GRAY)\n",
    "    height, width = image.shape\n",
    "    img = cv2.GaussianBlur(image, (9, 9), 0) #decrease noise for dialation\n",
    "    img = cv2.adaptiveThreshold(img, 255, cv2.ADAPTIVE_THRESH_GAUSSIAN_C,cv2.THRESH_BINARY_INV, 101, 30)\n",
    "    image = cv2.adaptiveThreshold(image, 255, cv2.ADAPTIVE_THRESH_GAUSSIAN_C,cv2.THRESH_BINARY_INV, 101, 30)\n",
    "    kernel = cv2.getStructuringElement(cv2.MORPH_RECT, (15, 20))\n",
    "    img = cv2.dilate(img, kernel, iterations=8)\n",
    "    contours = cv2.findContours(img, cv2.RETR_EXTERNAL, cv2.CHAIN_APPROX_SIMPLE)[0] \n",
    "    biggest_contour = functools.reduce(lambda c1, c2: c1 if cv2.contourArea(c1) > cv2.contourArea(c2) else c2,contours) #find the biggest contour for text area\n",
    "    x, y, w, h = cv2.boundingRect(biggest_contour) # find smallest rect that can contain the text area after dialation\n",
    "    image = image[y:y + h, x:x + w]\n",
    "    return image\n"
   ]
  },
  {
   "cell_type": "code",
   "execution_count": 25,
   "metadata": {},
   "outputs": [
    {
     "name": "stdout",
     "output_type": "stream",
     "text": [
      "[[241. 241. 241. ... 241. 241. 241.]\n",
      " [241. 241. 241. ... 241. 241. 241.]\n",
      " [241. 241. 241. ... 241. 241. 241.]\n",
      " ...\n",
      " [241. 241. 241. ... 241. 241. 241.]\n",
      " [241. 241. 241. ... 241. 241. 241.]\n",
      " [241. 241. 241. ... 241. 241. 241.]]\n"
     ]
    }
   ],
   "source": [
    "image = cv2.imread(\"..\\\\Data_split\\\\train\\\\Females\\\\F3.jpg\")\n",
    "img = Preprocessing(image)\n",
    "#LBP looks at points surrounding a central point\n",
    "#and tests whether the surrounding points are greater than or less than the central point\n",
    "#The histogram of the LBP result is a good measure to classify textures\n",
    "#n_points: Number of circularly symmetric neighbor set points \n",
    "#radius: Radius of circle\n",
    "#nri_uniform (method): non rotation-invariant uniform patterns variant which is only gray scale invariant (try it to increase accuracy only)\n",
    "lbp = local_binary_pattern(img, n_points, radius, method='nri_uniform')\n",
    "#Number of bins of histogram\n",
    "n_bins = n_points * (n_points - 1) + 3\n",
    "lbp_hist = np.histogram(lbp.ravel(), bins=np.arange(n_bins + 1), density=True)[0]\n",
    "#lbp_normalized = np.linalg.norm(lbp_hist)\n",
    "print(lbp)\n",
    "\n"
   ]
  },
  {
   "cell_type": "code",
   "execution_count": null,
   "metadata": {},
   "outputs": [],
   "source": []
  }
 ],
 "metadata": {
  "interpreter": {
   "hash": "ad2bdc8ecc057115af97d19610ffacc2b4e99fae6737bb82f5d7fb13d2f2c186"
  },
  "kernelspec": {
   "display_name": "Python 3.9.7 ('base')",
   "language": "python",
   "name": "python3"
  },
  "language_info": {
   "codemirror_mode": {
    "name": "ipython",
    "version": 3
   },
   "file_extension": ".py",
   "mimetype": "text/x-python",
   "name": "python",
   "nbconvert_exporter": "python",
   "pygments_lexer": "ipython3",
   "version": "3.9.7"
  },
  "orig_nbformat": 4
 },
 "nbformat": 4,
 "nbformat_minor": 2
}
